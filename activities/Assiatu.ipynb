{
 "cells": [
  {
   "cell_type": "code",
   "execution_count": 1,
   "metadata": {},
   "outputs": [],
   "source": [
    "import numpy as np\n",
    "import pandas as pd\n",
    "import math\n",
    "from matplotlib import pyplot\n"
   ]
  },
  {
   "cell_type": "markdown",
   "metadata": {},
   "source": [
    "Using the Pareto Distribution Pattern for SIERRA LEONE, population in 2019 was at 7.813million"
   ]
  },
  {
   "cell_type": "code",
   "execution_count": 2,
   "metadata": {},
   "outputs": [],
   "source": [
    "N = 78130000\n",
    "citizen_sl = pd.DataFrame ({'height1':np.random.pareto(a=math.log(5,4),size=N)})\n",
    "citizen_sl['height2'] = np.random.pareto(a=math.log(6,3),size=N)\n",
    "\n"
   ]
  },
  {
   "cell_type": "code",
   "execution_count": 3,
   "metadata": {},
   "outputs": [
    {
     "data": {
      "text/html": [
       "<div>\n",
       "<style scoped>\n",
       "    .dataframe tbody tr th:only-of-type {\n",
       "        vertical-align: middle;\n",
       "    }\n",
       "\n",
       "    .dataframe tbody tr th {\n",
       "        vertical-align: top;\n",
       "    }\n",
       "\n",
       "    .dataframe thead th {\n",
       "        text-align: right;\n",
       "    }\n",
       "</style>\n",
       "<table border=\"1\" class=\"dataframe\">\n",
       "  <thead>\n",
       "    <tr style=\"text-align: right;\">\n",
       "      <th></th>\n",
       "      <th>height1</th>\n",
       "      <th>height2</th>\n",
       "      <th>p</th>\n",
       "      <th>px</th>\n",
       "      <th>xmu</th>\n",
       "      <th>xmu2</th>\n",
       "      <th>pxmu2</th>\n",
       "    </tr>\n",
       "  </thead>\n",
       "  <tbody>\n",
       "    <tr>\n",
       "      <th>0</th>\n",
       "      <td>0.701966</td>\n",
       "      <td>0.108345</td>\n",
       "      <td>1.279918e-08</td>\n",
       "      <td>8.984595e-09</td>\n",
       "      <td>-5.282436</td>\n",
       "      <td>27.904132</td>\n",
       "      <td>3.571500e-07</td>\n",
       "    </tr>\n",
       "    <tr>\n",
       "      <th>1</th>\n",
       "      <td>0.091874</td>\n",
       "      <td>0.095423</td>\n",
       "      <td>1.279918e-08</td>\n",
       "      <td>1.175908e-09</td>\n",
       "      <td>-5.892529</td>\n",
       "      <td>34.721896</td>\n",
       "      <td>4.444118e-07</td>\n",
       "    </tr>\n",
       "    <tr>\n",
       "      <th>2</th>\n",
       "      <td>14.434533</td>\n",
       "      <td>9.062929</td>\n",
       "      <td>1.279918e-08</td>\n",
       "      <td>1.847502e-07</td>\n",
       "      <td>8.450130</td>\n",
       "      <td>71.404705</td>\n",
       "      <td>9.139217e-07</td>\n",
       "    </tr>\n",
       "    <tr>\n",
       "      <th>3</th>\n",
       "      <td>0.069057</td>\n",
       "      <td>0.257404</td>\n",
       "      <td>1.279918e-08</td>\n",
       "      <td>8.838793e-10</td>\n",
       "      <td>-5.915345</td>\n",
       "      <td>34.991307</td>\n",
       "      <td>4.478601e-07</td>\n",
       "    </tr>\n",
       "    <tr>\n",
       "      <th>4</th>\n",
       "      <td>0.399019</td>\n",
       "      <td>1.454918</td>\n",
       "      <td>1.279918e-08</td>\n",
       "      <td>5.107117e-09</td>\n",
       "      <td>-5.585384</td>\n",
       "      <td>31.196509</td>\n",
       "      <td>3.992898e-07</td>\n",
       "    </tr>\n",
       "    <tr>\n",
       "      <th>...</th>\n",
       "      <td>...</td>\n",
       "      <td>...</td>\n",
       "      <td>...</td>\n",
       "      <td>...</td>\n",
       "      <td>...</td>\n",
       "      <td>...</td>\n",
       "      <td>...</td>\n",
       "    </tr>\n",
       "    <tr>\n",
       "      <th>78129995</th>\n",
       "      <td>0.676462</td>\n",
       "      <td>1.374630</td>\n",
       "      <td>1.279918e-08</td>\n",
       "      <td>8.658165e-09</td>\n",
       "      <td>-5.307940</td>\n",
       "      <td>28.174228</td>\n",
       "      <td>3.606070e-07</td>\n",
       "    </tr>\n",
       "    <tr>\n",
       "      <th>78129996</th>\n",
       "      <td>0.281734</td>\n",
       "      <td>2.969376</td>\n",
       "      <td>1.279918e-08</td>\n",
       "      <td>3.605962e-09</td>\n",
       "      <td>-5.702669</td>\n",
       "      <td>32.520431</td>\n",
       "      <td>4.162349e-07</td>\n",
       "    </tr>\n",
       "    <tr>\n",
       "      <th>78129997</th>\n",
       "      <td>0.183028</td>\n",
       "      <td>1.857116</td>\n",
       "      <td>1.279918e-08</td>\n",
       "      <td>2.342613e-09</td>\n",
       "      <td>-5.801374</td>\n",
       "      <td>33.655943</td>\n",
       "      <td>4.307685e-07</td>\n",
       "    </tr>\n",
       "    <tr>\n",
       "      <th>78129998</th>\n",
       "      <td>0.248173</td>\n",
       "      <td>0.341143</td>\n",
       "      <td>1.279918e-08</td>\n",
       "      <td>3.176415e-09</td>\n",
       "      <td>-5.736229</td>\n",
       "      <td>32.904326</td>\n",
       "      <td>4.211484e-07</td>\n",
       "    </tr>\n",
       "    <tr>\n",
       "      <th>78129999</th>\n",
       "      <td>0.973429</td>\n",
       "      <td>1.220689</td>\n",
       "      <td>1.279918e-08</td>\n",
       "      <td>1.245909e-08</td>\n",
       "      <td>-5.010974</td>\n",
       "      <td>25.109857</td>\n",
       "      <td>3.213856e-07</td>\n",
       "    </tr>\n",
       "  </tbody>\n",
       "</table>\n",
       "<p>78130000 rows × 7 columns</p>\n",
       "</div>"
      ],
      "text/plain": [
       "            height1   height2             p            px       xmu  \\\n",
       "0          0.701966  0.108345  1.279918e-08  8.984595e-09 -5.282436   \n",
       "1          0.091874  0.095423  1.279918e-08  1.175908e-09 -5.892529   \n",
       "2         14.434533  9.062929  1.279918e-08  1.847502e-07  8.450130   \n",
       "3          0.069057  0.257404  1.279918e-08  8.838793e-10 -5.915345   \n",
       "4          0.399019  1.454918  1.279918e-08  5.107117e-09 -5.585384   \n",
       "...             ...       ...           ...           ...       ...   \n",
       "78129995   0.676462  1.374630  1.279918e-08  8.658165e-09 -5.307940   \n",
       "78129996   0.281734  2.969376  1.279918e-08  3.605962e-09 -5.702669   \n",
       "78129997   0.183028  1.857116  1.279918e-08  2.342613e-09 -5.801374   \n",
       "78129998   0.248173  0.341143  1.279918e-08  3.176415e-09 -5.736229   \n",
       "78129999   0.973429  1.220689  1.279918e-08  1.245909e-08 -5.010974   \n",
       "\n",
       "               xmu2         pxmu2  \n",
       "0         27.904132  3.571500e-07  \n",
       "1         34.721896  4.444118e-07  \n",
       "2         71.404705  9.139217e-07  \n",
       "3         34.991307  4.478601e-07  \n",
       "4         31.196509  3.992898e-07  \n",
       "...             ...           ...  \n",
       "78129995  28.174228  3.606070e-07  \n",
       "78129996  32.520431  4.162349e-07  \n",
       "78129997  33.655943  4.307685e-07  \n",
       "78129998  32.904326  4.211484e-07  \n",
       "78129999  25.109857  3.213856e-07  \n",
       "\n",
       "[78130000 rows x 7 columns]"
      ]
     },
     "execution_count": 3,
     "metadata": {},
     "output_type": "execute_result"
    }
   ],
   "source": [
    "citizen_sl['p'] = 1/N\n",
    "citizen_sl['px'] = citizen_sl['height1']*citizen_sl['p']\n",
    "citizen_sl['xmu'] = citizen_sl['height1']-sum(citizen_sl['px'])\n",
    "citizen_sl['xmu2'] = citizen_sl['xmu']**2\n",
    "citizen_sl['pxmu2'] = citizen_sl['xmu2']*citizen_sl['p']\n",
    "\n",
    "citizen_sl"
   ]
  },
  {
   "cell_type": "code",
   "execution_count": 4,
   "metadata": {},
   "outputs": [
    {
     "data": {
      "text/plain": [
       "5.984402552400717"
      ]
     },
     "execution_count": 4,
     "metadata": {},
     "output_type": "execute_result"
    }
   ],
   "source": [
    "\n",
    "first_moment_mu = sum(citizen_sl['px'])\n",
    "first_moment_mu"
   ]
  },
  {
   "cell_type": "code",
   "execution_count": 5,
   "metadata": {},
   "outputs": [
    {
     "name": "stdout",
     "output_type": "stream",
     "text": [
      "3147534.9209013972\n"
     ]
    }
   ],
   "source": [
    "second_moment_sigma2 = sum(citizen_sl['pxmu2'])\n",
    "print(second_moment_sigma2)"
   ]
  },
  {
   "cell_type": "code",
   "execution_count": 6,
   "metadata": {},
   "outputs": [
    {
     "name": "stdout",
     "output_type": "stream",
     "text": [
      "1774.129341649418\n"
     ]
    }
   ],
   "source": [
    "second_moment_sigma = math.sqrt(second_moment_sigma2)\n",
    "print(second_moment_sigma)"
   ]
  },
  {
   "cell_type": "code",
   "execution_count": 7,
   "metadata": {},
   "outputs": [
    {
     "data": {
      "image/png": "[encoded data removed]",
      "text/plain": [
       "<Figure size 432x288 with 1 Axes>"
      ]
     },
     "metadata": {
      "needs_background": "light"
     },
     "output_type": "display_data"
    }
   ],
   "source": [
    "pyplot.hist(citizen_sl['height1'], label='sd20')\n",
    "pyplot.hist(citizen_sl['height2'], label='sd5')\n",
    "pyplot.legend(loc='upper right')\n",
    "pyplot.show()"
   ]
  },
  {
   "cell_type": "markdown",
   "metadata": {},
   "source": [
    "Using the Normal Distribution Pattern, let assume the standard deviation std = 30cm, loc = 180cm"
   ]
  },
  {
   "cell_type": "code",
   "execution_count": 8,
   "metadata": {},
   "outputs": [],
   "source": [
    "N = 78130000\n",
    "citz = pd.DataFrame({'height1':np.random.normal(loc=180,scale=30,size=N)})\n",
    "citz['height2'] = np.random.normal(loc=180,scale=6,size=N)"
   ]
  },
  {
   "cell_type": "code",
   "execution_count": 9,
   "metadata": {},
   "outputs": [
    {
     "data": {
      "text/html": [
       "<div>\n",
       "<style scoped>\n",
       "    .dataframe tbody tr th:only-of-type {\n",
       "        vertical-align: middle;\n",
       "    }\n",
       "\n",
       "    .dataframe tbody tr th {\n",
       "        vertical-align: top;\n",
       "    }\n",
       "\n",
       "    .dataframe thead th {\n",
       "        text-align: right;\n",
       "    }\n",
       "</style>\n",
       "<table border=\"1\" class=\"dataframe\">\n",
       "  <thead>\n",
       "    <tr style=\"text-align: right;\">\n",
       "      <th></th>\n",
       "      <th>height1</th>\n",
       "      <th>height2</th>\n",
       "      <th>p</th>\n",
       "      <th>px</th>\n",
       "      <th>xmu</th>\n",
       "      <th>xmu2</th>\n",
       "      <th>pxmu2</th>\n",
       "    </tr>\n",
       "  </thead>\n",
       "  <tbody>\n",
       "    <tr>\n",
       "      <th>0</th>\n",
       "      <td>139.800881</td>\n",
       "      <td>176.936980</td>\n",
       "      <td>1.279918e-08</td>\n",
       "      <td>0.000002</td>\n",
       "      <td>-40.197840</td>\n",
       "      <td>1615.866360</td>\n",
       "      <td>2.068177e-05</td>\n",
       "    </tr>\n",
       "    <tr>\n",
       "      <th>1</th>\n",
       "      <td>207.925106</td>\n",
       "      <td>178.304036</td>\n",
       "      <td>1.279918e-08</td>\n",
       "      <td>0.000003</td>\n",
       "      <td>27.926385</td>\n",
       "      <td>779.882987</td>\n",
       "      <td>9.981863e-06</td>\n",
       "    </tr>\n",
       "    <tr>\n",
       "      <th>2</th>\n",
       "      <td>171.608667</td>\n",
       "      <td>185.493204</td>\n",
       "      <td>1.279918e-08</td>\n",
       "      <td>0.000002</td>\n",
       "      <td>-8.390054</td>\n",
       "      <td>70.393002</td>\n",
       "      <td>9.009728e-07</td>\n",
       "    </tr>\n",
       "    <tr>\n",
       "      <th>3</th>\n",
       "      <td>198.886003</td>\n",
       "      <td>184.384094</td>\n",
       "      <td>1.279918e-08</td>\n",
       "      <td>0.000003</td>\n",
       "      <td>18.887281</td>\n",
       "      <td>356.729398</td>\n",
       "      <td>4.565844e-06</td>\n",
       "    </tr>\n",
       "    <tr>\n",
       "      <th>4</th>\n",
       "      <td>208.527059</td>\n",
       "      <td>176.727115</td>\n",
       "      <td>1.279918e-08</td>\n",
       "      <td>0.000003</td>\n",
       "      <td>28.528338</td>\n",
       "      <td>813.866067</td>\n",
       "      <td>1.041682e-05</td>\n",
       "    </tr>\n",
       "    <tr>\n",
       "      <th>...</th>\n",
       "      <td>...</td>\n",
       "      <td>...</td>\n",
       "      <td>...</td>\n",
       "      <td>...</td>\n",
       "      <td>...</td>\n",
       "      <td>...</td>\n",
       "      <td>...</td>\n",
       "    </tr>\n",
       "    <tr>\n",
       "      <th>78129995</th>\n",
       "      <td>201.414873</td>\n",
       "      <td>176.181022</td>\n",
       "      <td>1.279918e-08</td>\n",
       "      <td>0.000003</td>\n",
       "      <td>21.416152</td>\n",
       "      <td>458.651556</td>\n",
       "      <td>5.870364e-06</td>\n",
       "    </tr>\n",
       "    <tr>\n",
       "      <th>78129996</th>\n",
       "      <td>194.533668</td>\n",
       "      <td>176.084486</td>\n",
       "      <td>1.279918e-08</td>\n",
       "      <td>0.000002</td>\n",
       "      <td>14.534947</td>\n",
       "      <td>211.264671</td>\n",
       "      <td>2.704015e-06</td>\n",
       "    </tr>\n",
       "    <tr>\n",
       "      <th>78129997</th>\n",
       "      <td>180.084480</td>\n",
       "      <td>179.901181</td>\n",
       "      <td>1.279918e-08</td>\n",
       "      <td>0.000002</td>\n",
       "      <td>0.085759</td>\n",
       "      <td>0.007355</td>\n",
       "      <td>9.413241e-11</td>\n",
       "    </tr>\n",
       "    <tr>\n",
       "      <th>78129998</th>\n",
       "      <td>209.079886</td>\n",
       "      <td>178.061419</td>\n",
       "      <td>1.279918e-08</td>\n",
       "      <td>0.000003</td>\n",
       "      <td>29.081165</td>\n",
       "      <td>845.714150</td>\n",
       "      <td>1.082445e-05</td>\n",
       "    </tr>\n",
       "    <tr>\n",
       "      <th>78129999</th>\n",
       "      <td>204.485670</td>\n",
       "      <td>195.198834</td>\n",
       "      <td>1.279918e-08</td>\n",
       "      <td>0.000003</td>\n",
       "      <td>24.486949</td>\n",
       "      <td>599.610662</td>\n",
       "      <td>7.674525e-06</td>\n",
       "    </tr>\n",
       "  </tbody>\n",
       "</table>\n",
       "<p>78130000 rows × 7 columns</p>\n",
       "</div>"
      ],
      "text/plain": [
       "             height1     height2             p        px        xmu  \\\n",
       "0         139.800881  176.936980  1.279918e-08  0.000002 -40.197840   \n",
       "1         207.925106  178.304036  1.279918e-08  0.000003  27.926385   \n",
       "2         171.608667  185.493204  1.279918e-08  0.000002  -8.390054   \n",
       "3         198.886003  184.384094  1.279918e-08  0.000003  18.887281   \n",
       "4         208.527059  176.727115  1.279918e-08  0.000003  28.528338   \n",
       "...              ...         ...           ...       ...        ...   \n",
       "78129995  201.414873  176.181022  1.279918e-08  0.000003  21.416152   \n",
       "78129996  194.533668  176.084486  1.279918e-08  0.000002  14.534947   \n",
       "78129997  180.084480  179.901181  1.279918e-08  0.000002   0.085759   \n",
       "78129998  209.079886  178.061419  1.279918e-08  0.000003  29.081165   \n",
       "78129999  204.485670  195.198834  1.279918e-08  0.000003  24.486949   \n",
       "\n",
       "                 xmu2         pxmu2  \n",
       "0         1615.866360  2.068177e-05  \n",
       "1          779.882987  9.981863e-06  \n",
       "2           70.393002  9.009728e-07  \n",
       "3          356.729398  4.565844e-06  \n",
       "4          813.866067  1.041682e-05  \n",
       "...               ...           ...  \n",
       "78129995   458.651556  5.870364e-06  \n",
       "78129996   211.264671  2.704015e-06  \n",
       "78129997     0.007355  9.413241e-11  \n",
       "78129998   845.714150  1.082445e-05  \n",
       "78129999   599.610662  7.674525e-06  \n",
       "\n",
       "[78130000 rows x 7 columns]"
      ]
     },
     "execution_count": 9,
     "metadata": {},
     "output_type": "execute_result"
    }
   ],
   "source": [
    "citz['p'] = 1/N\n",
    "citz['px'] = citz['height1']*citz['p']\n",
    "citz['xmu'] = citz['height1']-sum(citz['px'])\n",
    "citz['xmu2'] = citz['xmu']**2\n",
    "citz['pxmu2'] = citz['xmu2']*citz['p']\n",
    "\n",
    "citz"
   ]
  },
  {
   "cell_type": "code",
   "execution_count": 10,
   "metadata": {},
   "outputs": [
    {
     "data": {
      "text/plain": [
       "179.99872121492203"
      ]
     },
     "execution_count": 10,
     "metadata": {},
     "output_type": "execute_result"
    }
   ],
   "source": [
    "first_moment_mu = sum(citz['px'])\n",
    "first_moment_mu"
   ]
  },
  {
   "cell_type": "code",
   "execution_count": 11,
   "metadata": {},
   "outputs": [
    {
     "name": "stdout",
     "output_type": "stream",
     "text": [
      "899.5982419034926\n"
     ]
    }
   ],
   "source": [
    "second_moment_sigma2 = sum(citz['pxmu2'])\n",
    "print(second_moment_sigma2)"
   ]
  },
  {
   "cell_type": "code",
   "execution_count": 12,
   "metadata": {},
   "outputs": [
    {
     "name": "stdout",
     "output_type": "stream",
     "text": [
      "29.99330328429152\n"
     ]
    }
   ],
   "source": [
    "second_moment_sigma = math.sqrt(second_moment_sigma2)\n",
    "print(second_moment_sigma)"
   ]
  },
  {
   "cell_type": "code",
   "execution_count": 13,
   "metadata": {},
   "outputs": [
    {
     "data": {
      "image/png": "[encoded data removed]",
      "text/plain": [
       "<Figure size 432x288 with 1 Axes>"
      ]
     },
     "metadata": {
      "needs_background": "light"
     },
     "output_type": "display_data"
    }
   ],
   "source": [
    "pyplot.hist(citz['height1'], label='sd20')\n",
    "pyplot.hist(citz['height2'], label='sd5')\n",
    "pyplot.legend(loc='upper right')\n",
    "pyplot.show()"
   ]
  },
  {
   "cell_type": "code",
   "execution_count": null,
   "metadata": {},
   "outputs": [],
   "source": []
  }
 ],
 "metadata": {
  "kernelspec": {
   "display_name": "Python 3",
   "language": "python",
   "name": "python3"
  },
  "language_info": {
   "codemirror_mode": {
    "name": "ipython",
    "version": 3
   },
   "file_extension": ".py",
   "mimetype": "text/x-python",
   "name": "python",
   "nbconvert_exporter": "python",
   "pygments_lexer": "ipython3",
   "version": "3.8.5"
  }
 },
 "nbformat": 4,
 "nbformat_minor": 4
}
