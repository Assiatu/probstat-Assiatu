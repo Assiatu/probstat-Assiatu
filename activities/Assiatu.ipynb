{
 "cells": [
  {
   "cell_type": "code",
   "execution_count": 1,
   "metadata": {},
   "outputs": [],
   "source": [
    "import numpy as np\n",
    "import pandas as pd\n",
    "import math\n",
    "from matplotlib import pyplot\n"
   ]
  },
  {
   "cell_type": "markdown",
   "metadata": {},
   "source": [
    "SIERRA LEONE population in 2019 was at 7.813million, let assume the standard deviation std = 30cm"
   ]
  },
  {
   "cell_type": "code",
   "execution_count": 2,
   "metadata": {},
   "outputs": [],
   "source": [
    "N = 78130000\n",
    "citizen = pd.DataFrame ({'height1':np.random.pareto(a=math.log(5,4),size=N)})\n",
    "citizen['height2'] = np.random.pareto(a=math.log(6,3),size=N)\n",
    "\n"
   ]
  },
  {
   "cell_type": "code",
   "execution_count": 3,
   "metadata": {},
   "outputs": [
    {
     "data": {
      "text/html": [
       "<div>\n",
       "<style scoped>\n",
       "    .dataframe tbody tr th:only-of-type {\n",
       "        vertical-align: middle;\n",
       "    }\n",
       "\n",
       "    .dataframe tbody tr th {\n",
       "        vertical-align: top;\n",
       "    }\n",
       "\n",
       "    .dataframe thead th {\n",
       "        text-align: right;\n",
       "    }\n",
       "</style>\n",
       "<table border=\"1\" class=\"dataframe\">\n",
       "  <thead>\n",
       "    <tr style=\"text-align: right;\">\n",
       "      <th></th>\n",
       "      <th>height1</th>\n",
       "      <th>height2</th>\n",
       "      <th>p</th>\n",
       "      <th>px</th>\n",
       "      <th>xmu</th>\n",
       "      <th>xmu2</th>\n",
       "      <th>pxmu2</th>\n",
       "    </tr>\n",
       "  </thead>\n",
       "  <tbody>\n",
       "    <tr>\n",
       "      <th>0</th>\n",
       "      <td>135.143327</td>\n",
       "      <td>1.438673</td>\n",
       "      <td>1.279918e-08</td>\n",
       "      <td>1.729724e-06</td>\n",
       "      <td>129.190213</td>\n",
       "      <td>16690.111018</td>\n",
       "      <td>2.136197e-04</td>\n",
       "    </tr>\n",
       "    <tr>\n",
       "      <th>1</th>\n",
       "      <td>0.165210</td>\n",
       "      <td>0.619717</td>\n",
       "      <td>1.279918e-08</td>\n",
       "      <td>2.114547e-09</td>\n",
       "      <td>-5.787904</td>\n",
       "      <td>33.499838</td>\n",
       "      <td>4.287705e-07</td>\n",
       "    </tr>\n",
       "    <tr>\n",
       "      <th>2</th>\n",
       "      <td>5.761135</td>\n",
       "      <td>0.046117</td>\n",
       "      <td>1.279918e-08</td>\n",
       "      <td>7.373780e-08</td>\n",
       "      <td>-0.191979</td>\n",
       "      <td>0.036856</td>\n",
       "      <td>4.717273e-10</td>\n",
       "    </tr>\n",
       "    <tr>\n",
       "      <th>3</th>\n",
       "      <td>0.491402</td>\n",
       "      <td>0.504183</td>\n",
       "      <td>1.279918e-08</td>\n",
       "      <td>6.289545e-09</td>\n",
       "      <td>-5.461712</td>\n",
       "      <td>29.830296</td>\n",
       "      <td>3.818034e-07</td>\n",
       "    </tr>\n",
       "    <tr>\n",
       "      <th>4</th>\n",
       "      <td>0.742052</td>\n",
       "      <td>2.144768</td>\n",
       "      <td>1.279918e-08</td>\n",
       "      <td>9.497659e-09</td>\n",
       "      <td>-5.211062</td>\n",
       "      <td>27.155167</td>\n",
       "      <td>3.475639e-07</td>\n",
       "    </tr>\n",
       "    <tr>\n",
       "      <th>...</th>\n",
       "      <td>...</td>\n",
       "      <td>...</td>\n",
       "      <td>...</td>\n",
       "      <td>...</td>\n",
       "      <td>...</td>\n",
       "      <td>...</td>\n",
       "      <td>...</td>\n",
       "    </tr>\n",
       "    <tr>\n",
       "      <th>78129995</th>\n",
       "      <td>0.061953</td>\n",
       "      <td>0.178255</td>\n",
       "      <td>1.279918e-08</td>\n",
       "      <td>7.929427e-10</td>\n",
       "      <td>-5.891161</td>\n",
       "      <td>34.705783</td>\n",
       "      <td>4.442056e-07</td>\n",
       "    </tr>\n",
       "    <tr>\n",
       "      <th>78129996</th>\n",
       "      <td>8.657083</td>\n",
       "      <td>0.204338</td>\n",
       "      <td>1.279918e-08</td>\n",
       "      <td>1.108036e-07</td>\n",
       "      <td>2.703969</td>\n",
       "      <td>7.311448</td>\n",
       "      <td>9.358054e-08</td>\n",
       "    </tr>\n",
       "    <tr>\n",
       "      <th>78129997</th>\n",
       "      <td>0.038119</td>\n",
       "      <td>0.416469</td>\n",
       "      <td>1.279918e-08</td>\n",
       "      <td>4.878863e-10</td>\n",
       "      <td>-5.914995</td>\n",
       "      <td>34.987171</td>\n",
       "      <td>4.478071e-07</td>\n",
       "    </tr>\n",
       "    <tr>\n",
       "      <th>78129998</th>\n",
       "      <td>0.113450</td>\n",
       "      <td>6.612532</td>\n",
       "      <td>1.279918e-08</td>\n",
       "      <td>1.452068e-09</td>\n",
       "      <td>-5.839664</td>\n",
       "      <td>34.101675</td>\n",
       "      <td>4.364735e-07</td>\n",
       "    </tr>\n",
       "    <tr>\n",
       "      <th>78129999</th>\n",
       "      <td>9.158117</td>\n",
       "      <td>0.487552</td>\n",
       "      <td>1.279918e-08</td>\n",
       "      <td>1.172164e-07</td>\n",
       "      <td>3.205003</td>\n",
       "      <td>10.272041</td>\n",
       "      <td>1.314737e-07</td>\n",
       "    </tr>\n",
       "  </tbody>\n",
       "</table>\n",
       "<p>78130000 rows × 7 columns</p>\n",
       "</div>"
      ],
      "text/plain": [
       "             height1   height2             p            px         xmu  \\\n",
       "0         135.143327  1.438673  1.279918e-08  1.729724e-06  129.190213   \n",
       "1           0.165210  0.619717  1.279918e-08  2.114547e-09   -5.787904   \n",
       "2           5.761135  0.046117  1.279918e-08  7.373780e-08   -0.191979   \n",
       "3           0.491402  0.504183  1.279918e-08  6.289545e-09   -5.461712   \n",
       "4           0.742052  2.144768  1.279918e-08  9.497659e-09   -5.211062   \n",
       "...              ...       ...           ...           ...         ...   \n",
       "78129995    0.061953  0.178255  1.279918e-08  7.929427e-10   -5.891161   \n",
       "78129996    8.657083  0.204338  1.279918e-08  1.108036e-07    2.703969   \n",
       "78129997    0.038119  0.416469  1.279918e-08  4.878863e-10   -5.914995   \n",
       "78129998    0.113450  6.612532  1.279918e-08  1.452068e-09   -5.839664   \n",
       "78129999    9.158117  0.487552  1.279918e-08  1.172164e-07    3.205003   \n",
       "\n",
       "                  xmu2         pxmu2  \n",
       "0         16690.111018  2.136197e-04  \n",
       "1            33.499838  4.287705e-07  \n",
       "2             0.036856  4.717273e-10  \n",
       "3            29.830296  3.818034e-07  \n",
       "4            27.155167  3.475639e-07  \n",
       "...                ...           ...  \n",
       "78129995     34.705783  4.442056e-07  \n",
       "78129996      7.311448  9.358054e-08  \n",
       "78129997     34.987171  4.478071e-07  \n",
       "78129998     34.101675  4.364735e-07  \n",
       "78129999     10.272041  1.314737e-07  \n",
       "\n",
       "[78130000 rows x 7 columns]"
      ]
     },
     "execution_count": 3,
     "metadata": {},
     "output_type": "execute_result"
    }
   ],
   "source": [
    "citizen['p'] = 1/N\n",
    "citizen['px'] = citizen['height1']*citizen['p']\n",
    "citizen['xmu'] = citizen['height1']-sum(citizen['px'])\n",
    "citizen['xmu2'] = citizen['xmu']**2\n",
    "citizen['pxmu2'] = citizen['xmu2']*citizen['p']\n",
    "\n",
    "citizen"
   ]
  },
  {
   "cell_type": "code",
   "execution_count": 4,
   "metadata": {},
   "outputs": [
    {
     "data": {
      "text/plain": [
       "5.9531140043341075"
      ]
     },
     "execution_count": 4,
     "metadata": {},
     "output_type": "execute_result"
    }
   ],
   "source": [
    "\n",
    "first_moment_mu = sum(citizen['px'])\n",
    "first_moment_mu"
   ]
  },
  {
   "cell_type": "code",
   "execution_count": 5,
   "metadata": {},
   "outputs": [
    {
     "name": "stdout",
     "output_type": "stream",
     "text": [
      "8604814.340291943\n"
     ]
    }
   ],
   "source": [
    "second_moment_sigma2 = sum(citizen['pxmu2'])\n",
    "print(second_moment_sigma2)"
   ]
  },
  {
   "cell_type": "code",
   "execution_count": 6,
   "metadata": {},
   "outputs": [
    {
     "name": "stdout",
     "output_type": "stream",
     "text": [
      "2933.3963830842813\n"
     ]
    }
   ],
   "source": [
    "second_moment_sigma = math.sqrt(second_moment_sigma2)\n",
    "print(second_moment_sigma)"
   ]
  },
  {
   "cell_type": "code",
   "execution_count": 7,
   "metadata": {},
   "outputs": [
    {
     "data": {
      "image/png": "[encoded data removed]",
      "text/plain": [
       "<Figure size 432x288 with 1 Axes>"
      ]
     },
     "metadata": {
      "needs_background": "light"
     },
     "output_type": "display_data"
    }
   ],
   "source": [
    "\n",
    "pyplot.hist(citizen['height1'], label='sd20')\n",
    "pyplot.hist(citizen['height2'], label='sd5')\n",
    "pyplot.legend(loc='upper right')\n",
    "pyplot.show()"
   ]
  },
  {
   "cell_type": "code",
   "execution_count": null,
   "metadata": {},
   "outputs": [],
   "source": []
  }
 ],
 "metadata": {
  "kernelspec": {
   "display_name": "Python 3",
   "language": "python",
   "name": "python3"
  },
  "language_info": {
   "codemirror_mode": {
    "name": "ipython",
    "version": 3
   },
   "file_extension": ".py",
   "mimetype": "text/x-python",
   "name": "python",
   "nbconvert_exporter": "python",
   "pygments_lexer": "ipython3",
   "version": "3.8.5"
  }
 },
 "nbformat": 4,
 "nbformat_minor": 4
}
